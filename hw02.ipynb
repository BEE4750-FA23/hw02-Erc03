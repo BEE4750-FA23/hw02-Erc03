{
  "cells": [
    {
      "cell_type": "code",
      "execution_count": 1,
      "id": "395abf3d",
      "metadata": {},
      "outputs": [
        {
          "name": "stderr",
          "output_type": "stream",
          "text": [
            "\u001b[32m\u001b[1m  Activating\u001b[22m\u001b[39m project at `~/Desktop/classes/Semester 5/BEE 4750/homework/hw02-Erc03`\n"
          ]
        }
      ],
      "source": [
        "import Pkg\n",
        "Pkg.activate(@__DIR__)\n",
        "Pkg.instantiate()"
      ]
    },
    {
      "cell_type": "code",
      "execution_count": 2,
      "id": "26328b47",
      "metadata": {},
      "outputs": [],
      "source": [
        "using Plots\n",
        "using LaTeXStrings\n",
        "using Distributions"
      ]
    },
    {
      "cell_type": "markdown",
      "id": "b14f7dd1-d84b-42e3-bfb5-5fe12e7ac523",
      "metadata": {},
      "source": [
        "## Problems (Total: 40 Points)\n",
        "\n",
        "A river which flows at 6 km/d is receiving waste discharges from two\n",
        "sources which are 15 km apart, as shown in\n",
        "<a href=\"#fig-river\" class=\"quarto-xref\">Figure 1</a>. The oxygen\n",
        "reaeration rate is 0.55 day<sup>-1</sup>, and the decay rates of CBOD\n",
        "and NBOD are are 0.55 and 0.25 day<sup>-1</sup>, respectively. The\n",
        "river’s saturated dissolved oxygen concentration is 10m g/L.\n",
        "\n",
        "![Figure 1: Schematic of the\n",
        "system](attachment:figures/river_diagram.png)"
      ]
    },
    {
      "cell_type": "markdown",
      "id": "8d9711cb-a201-4f24-8e47-91e8e4670a63",
      "metadata": {},
      "source": [
        "### Problem 1 (8 points)\n",
        "\n",
        "If the characteristics of the river inflow and waste discharges are\n",
        "given in <a href=\"#tbl-river\" class=\"quarto-xref\">Table 1</a>, write a\n",
        "Julia model to compute the dissolved oxygen concentration from the first\n",
        "wastewater discharge to an arbitrary distance `d` km downstream. Use\n",
        "your model to compute the maximum dissolved oxygen concentration up to\n",
        "50km downstream and how far downriver this maximum occurs.\n",
        "\n",
        "|    Parameter     |            River Inflow |         Waste Stream 1 |         Waste Stream 2 |\n",
        "|:----------------:|------------------------:|-----------------------:|-----------------------:|\n",
        "|      Inflow      | 100,000 m<sup>3</sup>/d | 10,000 m<sup>3</sup>/d | 15,000 m<sup>3</sup>/d |\n",
        "| DO Concentration |                7.5 mg/L |                 5 mg/L |                 5 mg/L |\n",
        "|       CBOD       |                  5 mg/L |                50 mg/L |                45 mg/L |\n",
        "|       NBOD       |                  5 mg/L |                35 mg/L |                35 mg/L |\n",
        "\n",
        "Table 1: River inflow and waste stream characteristics for Problem 1."
      ]
    },
    {
      "cell_type": "code",
      "execution_count": 3,
      "id": "71d012cb",
      "metadata": {},
      "outputs": [
        {
          "name": "stdout",
          "output_type": "stream",
          "text": [
            "The maximum dissolved oxygen level is  7.2727272727272725 mg/L\n",
            "This is found  0m downstream.\n"
          ]
        }
      ],
      "source": [
        "#model for DO concentration\n",
        "\n",
        "function dissolved_oxygen(x, Cs, C0, B0, N0, ka, kc, kn, U)\n",
        "    α1 = exp(-ka * x / U)\n",
        "    α2 = (kc / (ka - kc)) * (exp(-kc * x / U) - α1)\n",
        "    α3 = (kn / (ka - kn)) * (exp(-kn * x / U) - α1)\n",
        "    C = (Cs * (1 - α1)) + (C0 * α1) - (B0 * α2) - (N0 * α3)\n",
        "    return C\n",
        "end\n",
        "\n",
        "#waste stream 1\n",
        "\n",
        "#distance\n",
        "x1 = 0:1:15000 #km \n",
        "x2 = 0:1:(50000-15000) #km \n",
        "\n",
        "#constants\n",
        "kc = 0.35 #1/day\n",
        "kn = 0.25 #1/day\n",
        "ka = 0.55 #1/day\n",
        "Cs = 10 #mg/L\n",
        "\n",
        "#River Parameters\n",
        "Cr = 7.5 #mg/L; DO river\n",
        "Br = 5 #mg/L; CBOD river\n",
        "Nr = 5 #mg/L; NBOD river\n",
        "U = 6000 #m/day; river velocity\n",
        "Qr = 100000 #L/day; river inflow\n",
        "\n",
        "#Waste Stream 1 Values\n",
        "C1 = 5 #mg/L\n",
        "Q1 = 10000 #L/day\n",
        "N1 = 35 #mg/L\n",
        "B1 = 50 #mg/L\n",
        "\n",
        "#Waste Stream 2 Values\n",
        "C2 = 5 #mg/L\n",
        "Q2 = 15000 #L/day\n",
        "N2 = 35 #mg/L\n",
        "B2 = 45 #mg/L\n",
        "Qr1 = Qr + Q1 ##L/day\n",
        "\n",
        "#first waste stream values\n",
        "C01 = (Cr*Qr + C1*Q1)/(Qr + Q1) #mg/L\n",
        "B01 = (Br*Qr + B1*Q1)/(Qr + Q1) #mg/L\n",
        "N01 = (Nr*Qr + N1*Q1)/(Qr + Q1) #mg/L\n",
        "\n",
        "#DO Steam 1 \n",
        "C1 = (y -> dissolved_oxygen(y, Cs, C01, B01, N01, ka, kc, kn, U)).(x1)\n",
        "\n",
        "#finding values in river at 15000m downstream\n",
        "B15 = B01 * exp((-1*kc*15000)/U)\n",
        "N15 = N01 * exp((-1*kn*15000)/U)\n",
        "C15 = C1[15001]\n",
        "\n",
        "#second waste stream values\n",
        "C02 = (C15*Qr1 + C2*Q2)/(Qr1 + Q2) #mg/L\n",
        "B02 = (B15*Qr1 + B2*Q2)/(Qr1 + Q2) #mg/L\n",
        "N02 = (N15*Qr1 + N2*Q2)/(Qr1 + Q2) #mg/L\n",
        "\n",
        "C2 = (y -> dissolved_oxygen(y, Cs, C02, B02, N02, ka, kc, kn, U)).(x2)\n",
        "\n",
        "#create list that combines all DO values\n",
        "C_all = append!(C1,C2)\n",
        "\n",
        "\n",
        "#finding max DO values\n",
        "DOmax = -1000000 #set DO value very low prior to iterating through all data\n",
        "i = 0 #setting index at 0\n",
        "max_distance = 0 #set the max distance to 0 before iterating\n",
        "for i in 1:length(C_all)\n",
        "    DOindex = C_all[i] #index DO is DO value at x=i \n",
        "    if DOindex > DOmax\n",
        "        DOmax = DOindex \n",
        "        max_distance = i #max value for dist. will become x=i \n",
        "    end\n",
        "end\n",
        "\n",
        "distancedownstream = max_distance - 1 #needed because the distances start at 0, not 1\n",
        "\n",
        "#print statements \n",
        "println(\"The maximum dissolved oxygen level is  \", DOmax, \" mg/L\")\n",
        "println(\"This is found  \", distancedownstream, \"m downstream.\")\n"
      ]
    },
    {
      "cell_type": "markdown",
      "id": "0e93c34c-09f5-48d5-98af-15674255cfed",
      "metadata": {},
      "source": [
        "### Problem 2 (4 points)\n",
        "\n",
        "Use your model to plot the dissolved oxygen concentration in the river\n",
        "from the first waste stream to 50km downstream. What do you notice?"
      ]
    },
    {
      "cell_type": "code",
      "execution_count": 4,
      "id": "63dcc029",
      "metadata": {},
      "outputs": [
        {
          "name": "stdout",
          "output_type": "stream",
          "text": []
        }
      ],
      "source": [
        "#plotting\n",
        "using Plots\n",
        "x = 0:1:50000\n",
        "plot(x,C_all, title=\"DO Concentration in River\", label=\"DO Concentration\")\n",
        "xlabel!(\"Distance (m)\")\n",
        "ylabel!(\"Concentration (mg/L)\")"
      ]
    },
    {
      "cell_type": "markdown",
      "id": "a0389abc",
      "metadata": {},
      "source": [
        "The graph above demonstrates the concentration of dissolved oxygen at a given point. Dissolved oxygen will reach a minimum value, and then will gradually increase after. There is a dip present at 15000 m because that is where the second waste stream comes in. The waste from the two streams reduces the dissolved oxygen. \n"
      ]
    },
    {
      "cell_type": "markdown",
      "id": "6d098b0d-5a16-4711-8926-d63cad06a894",
      "metadata": {},
      "source": [
        "### Problem 3 (3 points)\n",
        "\n",
        "Under the assumptions of Problem 1, determine the distance from waste\n",
        "stream 2 it will take for the dissolved oxygen concentration of the\n",
        "river to recover to 6 mg/L."
      ]
    },
    {
      "cell_type": "code",
      "execution_count": 5,
      "id": "553a051c",
      "metadata": {},
      "outputs": [
        {
          "name": "stdout",
          "output_type": "stream",
          "text": [
            "The concentration becomes 6 mg/L 26165m downstream of the second waste stream and 41165m downstream of the intial \n"
          ]
        }
      ],
      "source": [
        "#finding where DO becomes 6 mg/L in wastestream 2\n",
        "i= 15001\n",
        "DO6dist = 0 \n",
        "distance = 0\n",
        "# while loop\n",
        "while i <= length(C_all) \n",
        "    # Assigning value to object\n",
        "    global distance = i\n",
        "    if C_all[i] >= 6\n",
        "        global DO6dist = distance #max value for dist. will become x=i \n",
        "        break\n",
        "    else\n",
        "        global i = i + 1\n",
        "    end\n",
        "      \n",
        "# Ending Loop\n",
        "end\n",
        "\n",
        "#print statements \n",
        "println(\"The concentration becomes 6 mg/L \", DO6dist-15000, \"m downstream of the second waste stream and \", DO6dist, \"m downstream of the intial \")"
      ]
    },
    {
      "cell_type": "markdown",
      "id": "ad5cdcb4-dbf9-4d56-bf03-12c2c4ca2de4",
      "metadata": {},
      "source": [
        "### Problem 4 (5 points)\n",
        "\n",
        "What is the minimum level of treatment (% removal of organic waste) for\n",
        "waste stream 2 that will ensure that the dissolved oxygen concentration\n",
        "never drops below 4 mg/L, assuming that waste stream 1 remains\n",
        "untreated?\n",
        "\n",
        "*need to decrease CBOD and NBOD in wastestream 2"
      ]
    },
    {
      "cell_type": "code",
      "execution_count": 6,
      "id": "7d15fb5d",
      "metadata": {},
      "outputs": [
        {
          "name": "stdout",
          "output_type": "stream",
          "text": [
            "The minimum treatment needed is 0.12\n",
            "This means that it is a percentage of 0.88 from the original.\n"
          ]
        }
      ],
      "source": [
        "#need to reduce the CBOD and NBOD in WS 2\n",
        "\n",
        "#model for DO concentration\n",
        "\n",
        "treat = 1 #percent treatment\n",
        "\n",
        "function dissolved_oxygen(x, Cs, C0, B0, N0, ka, kc, kn, U)\n",
        "    α1 = exp(-ka * x / U)\n",
        "    α2 = (kc / (ka - kc)) * (exp(-kc * x / U) - α1)\n",
        "    α3 = (kn / (ka - kn)) * (exp(-kn * x / U) - α1)\n",
        "    C = (Cs * (1 - α1)) + (C0 * α1) - (B0 * α2) - (N0 * α3)\n",
        "    return C\n",
        "end\n",
        "\n",
        "for z in 1:100\n",
        "    #waste stream 1\n",
        "\n",
        "    #distance\n",
        "    x1 = 0:1:15000 #km \n",
        "    x2 = 0:1:(50000-15000) #km \n",
        "\n",
        "    #constants\n",
        "    kc = 0.35 #1/day\n",
        "    kn = 0.25 #1/day\n",
        "    ka = 0.55 #1/day\n",
        "    Cs = 10 #mg/L\n",
        "\n",
        "    #River Parameters\n",
        "    Cr = 7.5 #mg/L; DO river\n",
        "    Br = 5 #mg/L; CBOD river\n",
        "    Nr = 5 #mg/L; NBOD river\n",
        "    U = 6000 #m/day; river velocity\n",
        "    Qr = 100000 #L/day; river inflow\n",
        "\n",
        "    #Waste Stream 1 Values\n",
        "    C1 = 5 #mg/L\n",
        "    Q1 = 10000 #L/day\n",
        "    N1 = 35 #mg/L\n",
        "    B1 = 50 #mg/L\n",
        "\n",
        "    #Waste Stream 2 Values\n",
        "    C2 = 5 #mg/L\n",
        "    Q2 = 15000 #L/day\n",
        "    N2 = 35 #mg/L\n",
        "    B2 = 45 #mg/L\n",
        "    Qr1 = Qr + Q1 ##L/day\n",
        "\n",
        "    #first waste stream values\n",
        "    C01 = (Cr*Qr + C1*Q1)/(Qr + Q1) #mg/L\n",
        "    B01 = (Br*Qr + B1*Q1)/(Qr + Q1) #mg/L\n",
        "    N01 = (Nr*Qr + N1*Q1)/(Qr + Q1) #mg/L\n",
        "\n",
        "    #DO Steam 1 \n",
        "    C1 = (y -> dissolved_oxygen(y, Cs, C01, B01, N01, ka, kc, kn, U)).(x1)\n",
        "\n",
        "    #finding values in river at 15000m downstream\n",
        "    B15 = B01 * exp((-1*kc*15000)/U)\n",
        "    N15 = N01 * exp((-1*kn*15000)/U)\n",
        "    C15 = C1[15001]\n",
        "\n",
        "    #second waste stream values\n",
        "    C02 = (C15*Qr1 + C2*Q2)/(Qr1 + Q2) #mg/L\n",
        "    B02 = (B15*Qr1 + (treat*B2)*Q2)/(Qr1 + Q2) #mg/L\n",
        "    N02 = (N15*Qr1 + (treat*N2)*Q2)/(Qr1 + Q2) #mg/L\n",
        "\n",
        "    C2 = (y -> dissolved_oxygen(y, Cs, C02, B02, N02, ka, kc, kn, U)).(x2)\n",
        "\n",
        "    #create list that combines all DO values\n",
        "    C_all = append!(C1,C2)\n",
        "\n",
        "    #seeing if minimum is below 4\n",
        "    global minval = minimum(C_all) # this is min value\n",
        "    if minval <= 4\n",
        "        global treat = treat - 0.01 #changing treatment percent if below 4\n",
        "    else \n",
        "        break #break if minimum value is not below 4 anymore\n",
        "    end\n",
        "end\n",
        "\n",
        "println(\"The minimum treatment needed is \", 1-(round(treat; digits = 2)))\n",
        "println(\"This means that it is a percentage of \", round(treat; digits = 2), \" from the original.\")\n"
      ]
    },
    {
      "cell_type": "markdown",
      "id": "75a4d521-4a8e-49bd-9ddd-e3a04e545145",
      "metadata": {},
      "source": [
        "### Problem 5 (5 points)\n",
        "\n",
        "If both waste streams are treated equally, what is the minimum level of\n",
        "treatment (% removal of organic waste) for the two sources required to\n",
        "ensure that the dissolved oxygen concentration never drops below 4 mg/L?"
      ]
    },
    {
      "cell_type": "code",
      "execution_count": 7,
      "id": "17cf6aca",
      "metadata": {},
      "outputs": [
        {
          "name": "stdout",
          "output_type": "stream",
          "text": [
            "The minimum treatment needed is 0.06999999999999995\n",
            "This means that it is a percentage of 0.93 from the original.\n"
          ]
        }
      ],
      "source": [
        "#need to reduce the CBOD and NBOD in WS 2\n",
        "\n",
        "#model for DO concentration\n",
        "\n",
        "treat = 1 #percent treatment\n",
        "\n",
        "function dissolved_oxygen(x, Cs, C0, B0, N0, ka, kc, kn, U)\n",
        "    α1 = exp(-ka * x / U)\n",
        "    α2 = (kc / (ka - kc)) * (exp(-kc * x / U) - α1)\n",
        "    α3 = (kn / (ka - kn)) * (exp(-kn * x / U) - α1)\n",
        "    C = (Cs * (1 - α1)) + (C0 * α1) - (B0 * α2) - (N0 * α3)\n",
        "    return C\n",
        "end\n",
        "\n",
        "for z in 1:100\n",
        "    #waste stream 1\n",
        "\n",
        "    #distance\n",
        "    x1 = 0:1:15000 #km \n",
        "    x2 = 0:1:(50000-15000) #km \n",
        "\n",
        "    #constants\n",
        "    kc = 0.35 #1/day\n",
        "    kn = 0.25 #1/day\n",
        "    ka = 0.55 #1/day\n",
        "    Cs = 10 #mg/L\n",
        "\n",
        "    #River Parameters\n",
        "    Cr = 7.5 #mg/L; DO river\n",
        "    Br = 5 #mg/L; CBOD river\n",
        "    Nr = 5 #mg/L; NBOD river\n",
        "    U = 6000 #m/day; river velocity\n",
        "    Qr = 100000 #L/day; river inflow\n",
        "\n",
        "    #Waste Stream 1 Values\n",
        "    C1 = 5 #mg/L\n",
        "    Q1 = 10000 #L/day\n",
        "    N1 = 35 #mg/L\n",
        "    B1 = 50 #mg/L\n",
        "\n",
        "    #Waste Stream 2 Values\n",
        "    C2 = 5 #mg/L\n",
        "    Q2 = 15000 #L/day\n",
        "    N2 = 35 #mg/L\n",
        "    B2 = 45 #mg/L\n",
        "    Qr1 = Qr + Q1 ##L/day\n",
        "\n",
        "    #first waste stream values\n",
        "    C01 = (Cr*Qr + C1*Q1)/(Qr + Q1) #mg/L\n",
        "    B01 = (Br*Qr + (treat*B1)*Q1)/(Qr + Q1) #mg/L\n",
        "    N01 = (Nr*Qr + (treat*N1)*Q1)/(Qr + Q1) #mg/L\n",
        "\n",
        "    #DO Steam 1 \n",
        "    C1 = (y -> dissolved_oxygen(y, Cs, C01, B01, N01, ka, kc, kn, U)).(x1)\n",
        "\n",
        "    #finding values in river at 15000m downstream\n",
        "    B15 = B01 * exp((-1*kc*15000)/U)\n",
        "    N15 = N01 * exp((-1*kn*15000)/U)\n",
        "    C15 = C1[15001]\n",
        "\n",
        "    #second waste stream values\n",
        "    C02 = (C15*Qr1 + C2*Q2)/(Qr1 + Q2) #mg/L\n",
        "    B02 = (B15*Qr1 + (treat*B2)*Q2)/(Qr1 + Q2) #mg/L\n",
        "    N02 = (N15*Qr1 + (treat*N2)*Q2)/(Qr1 + Q2) #mg/L\n",
        "\n",
        "    C2 = (y -> dissolved_oxygen(y, Cs, C02, B02, N02, ka, kc, kn, U)).(x2)\n",
        "\n",
        "    #create list that combines all DO values\n",
        "    C_all = append!(C1,C2)\n",
        "\n",
        "    #seeing if minimum is below 4\n",
        "    global minval = minimum(C_all) # this is min value\n",
        "    if minval <= 4\n",
        "        global treat = treat - 0.01 #changing treatment percent if below 4\n",
        "    else \n",
        "        break #break if minimum value is not below 4 anymore\n",
        "    end\n",
        "end\n",
        "\n",
        "println(\"The minimum treatment needed is \", 1-(round(treat; digits = 2)))\n",
        "println(\"This means that it is a percentage of \", round(treat; digits = 2), \" from the original.\")\n"
      ]
    },
    {
      "cell_type": "markdown",
      "id": "a31a496a-35d5-42e2-be89-35bd93269b75",
      "metadata": {},
      "source": [
        "### Problem 6 (5 points)\n",
        "\n",
        "Suppose you are responsible for designing a waste treatment plan for\n",
        "discharges into the river, with a regulatory mandate to keep the\n",
        "dissolved oxygen concentration above 4 mg/L. Discuss whether you’d opt\n",
        "to treat waste stream 2 alone or both waste streams equally. What other\n",
        "information might you need to make a conclusion, if any?"
      ]
    },
    {
      "cell_type": "markdown",
      "id": "87aecc56-2578-4e19-8ccb-065895c5dd3f",
      "metadata": {},
      "source": [
        "### Problem 7 (5 points)\n",
        "\n",
        "Suppose that it is known that the DO concentrations at the river inflow\n",
        "can vary uniformly between 6 mg/L and 8 mg/L. How often will the\n",
        "treatment plan identified in Problem 5 (both waste streams treated\n",
        "equally) fail to comply with the regulatory standard?"
      ]
    },
    {
      "cell_type": "markdown",
      "id": "049f84b1-c21c-4539-83e8-ea8a441d18d1",
      "metadata": {},
      "source": [
        "### Problem 8 (5 points)\n",
        "\n",
        "A factory is planning a third wastewater discharge into the river\n",
        "downstream of the second plant. This discharge would consist of 5\n",
        "m<sup>3</sup>/day of wastewater with a dissolved oxygen content of 4.5\n",
        "mg/L and CBOD and NBOD levels of 50 and 45 mg/L, respectively.\n",
        "\n",
        "Assume that the treatment plan you identified in Problem 5 is still in\n",
        "place for the existing discharges. If the third discharge will not be\n",
        "treated, under the original inflow conditions (7.5 mg/L DO), how far\n",
        "downstream from the second discharge does this third discharge need to\n",
        "be placed to keep the river concentration from dropping below 4 mg/L?"
      ]
    },
    {
      "cell_type": "markdown",
      "id": "beaf7155-2b73-4559-a2d2-b41e2eb1e1de",
      "metadata": {},
      "source": [
        "## References\n",
        "\n",
        "List any external references consulted, including classmates.\n",
        "\n",
        "\n",
        "I consulted with my classmate, Teagan Smith."
      ]
    }
  ],
  "metadata": {
    "kernelspec": {
      "display_name": "Julia 1.9.2",
      "language": "julia",
      "name": "julia-1.9"
    },
    "language_info": {
      "file_extension": ".jl",
      "mimetype": "application/julia",
      "name": "julia",
      "version": "1.9.2"
    }
  },
  "nbformat": 4,
  "nbformat_minor": 5
}
